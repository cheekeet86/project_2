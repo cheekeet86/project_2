{
 "cells": [
  {
   "cell_type": "markdown",
   "metadata": {},
   "source": [
    "### Importing"
   ]
  },
  {
   "cell_type": "code",
   "execution_count": 1,
   "metadata": {},
   "outputs": [],
   "source": [
    "# user configuration\n",
    "\n",
    "# toggle to create models with/without outliers\n",
    "remove_outliers_flag = True\n",
    "\n",
    "# select 1 model for output predictions\n",
    "#output_model = 'lr'\n",
    "#output_model = 'ridge'\n",
    "output_model = 'lasso'"
   ]
  },
  {
   "cell_type": "code",
   "execution_count": 2,
   "metadata": {},
   "outputs": [],
   "source": [
    "# import libraries\n",
    "\n",
    "# maths\n",
    "import scipy.stats as stats\n",
    "import numpy as np\n",
    "import pandas as pd\n",
    "#from pandas.api.types import is_numeric_dtype\n",
    "\n",
    "# visual\n",
    "import seaborn as sns\n",
    "import matplotlib.pyplot as plt\n",
    "\n",
    "%matplotlib inline\n",
    "\n",
    "# machine learning\n",
    "from sklearn.linear_model import LinearRegression,Ridge,RidgeCV,Lasso,LassoCV,ElasticNet \n",
    "from sklearn import linear_model\n",
    "from sklearn.model_selection import train_test_split,cross_val_score\n",
    "from sklearn.preprocessing import StandardScaler,PolynomialFeatures\n",
    "from sklearn.linear_model import Ridge\n",
    "from sklearn.metrics import r2_score\n",
    "\n",
    "# html\n",
    "#from IPython.display import Image\n",
    "#from IPython.core.display import HTML\n",
    "\n",
    "# other\n",
    "import datetime as dt\n",
    "#import re\n",
    "#import os"
   ]
  },
  {
   "cell_type": "code",
   "execution_count": 3,
   "metadata": {},
   "outputs": [],
   "source": [
    "# import raw data\n",
    "input_path = '../data/input/'\n",
    "\n",
    "df_train = pd.read_csv(input_path + 'train.csv')\n",
    "df_test = pd.read_csv(input_path + 'test.csv')\n",
    "\n",
    "# import helper files\n",
    "mid_path = '../data/mid/'\n",
    "\n",
    "df_cols = pd.read_csv(mid_path + 'columns.csv')"
   ]
  },
  {
   "cell_type": "markdown",
   "metadata": {},
   "source": [
    "### Functions"
   ]
  },
  {
   "cell_type": "code",
   "execution_count": 4,
   "metadata": {},
   "outputs": [],
   "source": [
    "def create_scatterplot(title,data,x,y,hue=None,xlabel=None,ylabel=None):    \n",
    "        \n",
    "    plt.figure(figsize=(10,8))\n",
    "    \n",
    "    sns.set_style(\"whitegrid\")\n",
    "    palette = sns.color_palette(\"bright\",n_colors=16)\n",
    "      \n",
    "    #sns.regplot(data,x=x,y=y)        \n",
    "    sns.scatterplot(data=data,x=x,y=y,hue=hue,palette=palette)\n",
    "\n",
    "    #plt.xlim(min_x,max_x)\n",
    "    #plt.ylim(min_x,max_x)\n",
    "                    \n",
    "    plt.title(title)\n",
    "    \n",
    "    if xlabel == None:\n",
    "        xlabel = x\n",
    "    if ylabel == None:\n",
    "        ylabel = y\n",
    "    \n",
    "    plt.xlabel(xlabel)\n",
    "    plt.ylabel(ylabel)"
   ]
  },
  {
   "cell_type": "code",
   "execution_count": 5,
   "metadata": {},
   "outputs": [],
   "source": [
    "def create_boxplot(data,x,y,title=''):\n",
    "    \n",
    "    plt.figure(figsize=(20,12))\n",
    "    \n",
    "    b = sns.boxplot(data=data,x=x,y=y)\n",
    "    b.axes.set_title(title,fontsize=25)\n",
    "    b.set_xlabel(x,fontsize=20)\n",
    "    b.set_ylabel(y,fontsize=20)\n",
    "    b.tick_params(labelsize=15)"
   ]
  },
  {
   "cell_type": "code",
   "execution_count": 6,
   "metadata": {},
   "outputs": [],
   "source": [
    "def create_lm_model(df,cols,cv=5):\n",
    "    \n",
    "    # create X (feature matrix) and y (target)\n",
    "    X = df.loc[:,cols]\n",
    "    X = X.values\n",
    "    y = df['sale_price']\n",
    "    \n",
    "    # using holdout method\n",
    "    X_train, X_test, y_train, y_test = train_test_split(X, y, train_size=0.7, test_size=0.3,random_state=3050)\n",
    "    \n",
    "    model = lr.fit(X_train,y_train)\n",
    "    print('coef: {} intercept: {}'.format(model.coef_,model.intercept_))\n",
    "\n",
    "    score = model.score(X_test,y_test)\n",
    "    print('score:',score)\n",
    "\n",
    "    cvs = cross_val_score(model,X,y,cv=cv)    \n",
    "    mean = np.mean(cvs)\n",
    "    print('cvs:',mean,cvs)\n",
    "    \n",
    "    return model"
   ]
  },
  {
   "cell_type": "markdown",
   "metadata": {},
   "source": [
    "### Inspect df_train"
   ]
  },
  {
   "cell_type": "code",
   "execution_count": 7,
   "metadata": {},
   "outputs": [
    {
     "name": "stdout",
     "output_type": "stream",
     "text": [
      "Index(['Id', 'PID', 'MS SubClass', 'MS Zoning', 'Lot Frontage', 'Lot Area',\n",
      "       'Street', 'Alley', 'Lot Shape', 'Land Contour', 'Utilities',\n",
      "       'Lot Config', 'Land Slope', 'Neighborhood', 'Condition 1',\n",
      "       'Condition 2', 'Bldg Type', 'House Style', 'Overall Qual',\n",
      "       'Overall Cond', 'Year Built', 'Year Remod/Add', 'Roof Style',\n",
      "       'Roof Matl', 'Exterior 1st', 'Exterior 2nd', 'Mas Vnr Type',\n",
      "       'Mas Vnr Area', 'Exter Qual', 'Exter Cond', 'Foundation', 'Bsmt Qual',\n",
      "       'Bsmt Cond', 'Bsmt Exposure', 'BsmtFin Type 1', 'BsmtFin SF 1',\n",
      "       'BsmtFin Type 2', 'BsmtFin SF 2', 'Bsmt Unf SF', 'Total Bsmt SF',\n",
      "       'Heating', 'Heating QC', 'Central Air', 'Electrical', '1st Flr SF',\n",
      "       '2nd Flr SF', 'Low Qual Fin SF', 'Gr Liv Area', 'Bsmt Full Bath',\n",
      "       'Bsmt Half Bath', 'Full Bath', 'Half Bath', 'Bedroom AbvGr',\n",
      "       'Kitchen AbvGr', 'Kitchen Qual', 'TotRms AbvGrd', 'Functional',\n",
      "       'Fireplaces', 'Fireplace Qu', 'Garage Type', 'Garage Yr Blt',\n",
      "       'Garage Finish', 'Garage Cars', 'Garage Area', 'Garage Qual',\n",
      "       'Garage Cond', 'Paved Drive', 'Wood Deck SF', 'Open Porch SF',\n",
      "       'Enclosed Porch', '3Ssn Porch', 'Screen Porch', 'Pool Area', 'Pool QC',\n",
      "       'Fence', 'Misc Feature', 'Misc Val', 'Mo Sold', 'Yr Sold', 'Sale Type',\n",
      "       'SalePrice'],\n",
      "      dtype='object')\n"
     ]
    }
   ],
   "source": [
    "print(df_train.columns)"
   ]
  },
  {
   "cell_type": "code",
   "execution_count": 8,
   "metadata": {},
   "outputs": [
    {
     "data": {
      "text/html": [
       "<div>\n",
       "<style scoped>\n",
       "    .dataframe tbody tr th:only-of-type {\n",
       "        vertical-align: middle;\n",
       "    }\n",
       "\n",
       "    .dataframe tbody tr th {\n",
       "        vertical-align: top;\n",
       "    }\n",
       "\n",
       "    .dataframe thead th {\n",
       "        text-align: right;\n",
       "    }\n",
       "</style>\n",
       "<table border=\"1\" class=\"dataframe\">\n",
       "  <thead>\n",
       "    <tr style=\"text-align: right;\">\n",
       "      <th></th>\n",
       "      <th>Id</th>\n",
       "      <th>PID</th>\n",
       "      <th>MS SubClass</th>\n",
       "      <th>MS Zoning</th>\n",
       "      <th>Lot Frontage</th>\n",
       "      <th>Lot Area</th>\n",
       "      <th>Street</th>\n",
       "      <th>Alley</th>\n",
       "      <th>Lot Shape</th>\n",
       "      <th>Land Contour</th>\n",
       "      <th>...</th>\n",
       "      <th>Screen Porch</th>\n",
       "      <th>Pool Area</th>\n",
       "      <th>Pool QC</th>\n",
       "      <th>Fence</th>\n",
       "      <th>Misc Feature</th>\n",
       "      <th>Misc Val</th>\n",
       "      <th>Mo Sold</th>\n",
       "      <th>Yr Sold</th>\n",
       "      <th>Sale Type</th>\n",
       "      <th>SalePrice</th>\n",
       "    </tr>\n",
       "  </thead>\n",
       "  <tbody>\n",
       "    <tr>\n",
       "      <th>0</th>\n",
       "      <td>109</td>\n",
       "      <td>533352170</td>\n",
       "      <td>60</td>\n",
       "      <td>RL</td>\n",
       "      <td>NaN</td>\n",
       "      <td>13517</td>\n",
       "      <td>Pave</td>\n",
       "      <td>NaN</td>\n",
       "      <td>IR1</td>\n",
       "      <td>Lvl</td>\n",
       "      <td>...</td>\n",
       "      <td>0</td>\n",
       "      <td>0</td>\n",
       "      <td>NaN</td>\n",
       "      <td>NaN</td>\n",
       "      <td>NaN</td>\n",
       "      <td>0</td>\n",
       "      <td>3</td>\n",
       "      <td>2010</td>\n",
       "      <td>WD</td>\n",
       "      <td>130500</td>\n",
       "    </tr>\n",
       "    <tr>\n",
       "      <th>1</th>\n",
       "      <td>544</td>\n",
       "      <td>531379050</td>\n",
       "      <td>60</td>\n",
       "      <td>RL</td>\n",
       "      <td>43.0</td>\n",
       "      <td>11492</td>\n",
       "      <td>Pave</td>\n",
       "      <td>NaN</td>\n",
       "      <td>IR1</td>\n",
       "      <td>Lvl</td>\n",
       "      <td>...</td>\n",
       "      <td>0</td>\n",
       "      <td>0</td>\n",
       "      <td>NaN</td>\n",
       "      <td>NaN</td>\n",
       "      <td>NaN</td>\n",
       "      <td>0</td>\n",
       "      <td>4</td>\n",
       "      <td>2009</td>\n",
       "      <td>WD</td>\n",
       "      <td>220000</td>\n",
       "    </tr>\n",
       "    <tr>\n",
       "      <th>2</th>\n",
       "      <td>153</td>\n",
       "      <td>535304180</td>\n",
       "      <td>20</td>\n",
       "      <td>RL</td>\n",
       "      <td>68.0</td>\n",
       "      <td>7922</td>\n",
       "      <td>Pave</td>\n",
       "      <td>NaN</td>\n",
       "      <td>Reg</td>\n",
       "      <td>Lvl</td>\n",
       "      <td>...</td>\n",
       "      <td>0</td>\n",
       "      <td>0</td>\n",
       "      <td>NaN</td>\n",
       "      <td>NaN</td>\n",
       "      <td>NaN</td>\n",
       "      <td>0</td>\n",
       "      <td>1</td>\n",
       "      <td>2010</td>\n",
       "      <td>WD</td>\n",
       "      <td>109000</td>\n",
       "    </tr>\n",
       "    <tr>\n",
       "      <th>3</th>\n",
       "      <td>318</td>\n",
       "      <td>916386060</td>\n",
       "      <td>60</td>\n",
       "      <td>RL</td>\n",
       "      <td>73.0</td>\n",
       "      <td>9802</td>\n",
       "      <td>Pave</td>\n",
       "      <td>NaN</td>\n",
       "      <td>Reg</td>\n",
       "      <td>Lvl</td>\n",
       "      <td>...</td>\n",
       "      <td>0</td>\n",
       "      <td>0</td>\n",
       "      <td>NaN</td>\n",
       "      <td>NaN</td>\n",
       "      <td>NaN</td>\n",
       "      <td>0</td>\n",
       "      <td>4</td>\n",
       "      <td>2010</td>\n",
       "      <td>WD</td>\n",
       "      <td>174000</td>\n",
       "    </tr>\n",
       "    <tr>\n",
       "      <th>4</th>\n",
       "      <td>255</td>\n",
       "      <td>906425045</td>\n",
       "      <td>50</td>\n",
       "      <td>RL</td>\n",
       "      <td>82.0</td>\n",
       "      <td>14235</td>\n",
       "      <td>Pave</td>\n",
       "      <td>NaN</td>\n",
       "      <td>IR1</td>\n",
       "      <td>Lvl</td>\n",
       "      <td>...</td>\n",
       "      <td>0</td>\n",
       "      <td>0</td>\n",
       "      <td>NaN</td>\n",
       "      <td>NaN</td>\n",
       "      <td>NaN</td>\n",
       "      <td>0</td>\n",
       "      <td>3</td>\n",
       "      <td>2010</td>\n",
       "      <td>WD</td>\n",
       "      <td>138500</td>\n",
       "    </tr>\n",
       "  </tbody>\n",
       "</table>\n",
       "<p>5 rows × 81 columns</p>\n",
       "</div>"
      ],
      "text/plain": [
       "    Id        PID  MS SubClass MS Zoning  Lot Frontage  Lot Area Street Alley  \\\n",
       "0  109  533352170           60        RL           NaN     13517   Pave   NaN   \n",
       "1  544  531379050           60        RL          43.0     11492   Pave   NaN   \n",
       "2  153  535304180           20        RL          68.0      7922   Pave   NaN   \n",
       "3  318  916386060           60        RL          73.0      9802   Pave   NaN   \n",
       "4  255  906425045           50        RL          82.0     14235   Pave   NaN   \n",
       "\n",
       "  Lot Shape Land Contour  ... Screen Porch Pool Area Pool QC Fence  \\\n",
       "0       IR1          Lvl  ...            0         0     NaN   NaN   \n",
       "1       IR1          Lvl  ...            0         0     NaN   NaN   \n",
       "2       Reg          Lvl  ...            0         0     NaN   NaN   \n",
       "3       Reg          Lvl  ...            0         0     NaN   NaN   \n",
       "4       IR1          Lvl  ...            0         0     NaN   NaN   \n",
       "\n",
       "  Misc Feature Misc Val Mo Sold Yr Sold  Sale Type  SalePrice  \n",
       "0          NaN        0       3    2010        WD      130500  \n",
       "1          NaN        0       4    2009        WD      220000  \n",
       "2          NaN        0       1    2010        WD      109000  \n",
       "3          NaN        0       4    2010        WD      174000  \n",
       "4          NaN        0       3    2010        WD      138500  \n",
       "\n",
       "[5 rows x 81 columns]"
      ]
     },
     "execution_count": 8,
     "metadata": {},
     "output_type": "execute_result"
    }
   ],
   "source": [
    "df_train.head()"
   ]
  },
  {
   "cell_type": "code",
   "execution_count": 9,
   "metadata": {},
   "outputs": [
    {
     "data": {
      "text/html": [
       "<div>\n",
       "<style scoped>\n",
       "    .dataframe tbody tr th:only-of-type {\n",
       "        vertical-align: middle;\n",
       "    }\n",
       "\n",
       "    .dataframe tbody tr th {\n",
       "        vertical-align: top;\n",
       "    }\n",
       "\n",
       "    .dataframe thead th {\n",
       "        text-align: right;\n",
       "    }\n",
       "</style>\n",
       "<table border=\"1\" class=\"dataframe\">\n",
       "  <thead>\n",
       "    <tr style=\"text-align: right;\">\n",
       "      <th></th>\n",
       "      <th>Id</th>\n",
       "      <th>PID</th>\n",
       "      <th>MS SubClass</th>\n",
       "      <th>Lot Frontage</th>\n",
       "      <th>Lot Area</th>\n",
       "      <th>Overall Qual</th>\n",
       "      <th>Overall Cond</th>\n",
       "      <th>Year Built</th>\n",
       "      <th>Year Remod/Add</th>\n",
       "      <th>Mas Vnr Area</th>\n",
       "      <th>...</th>\n",
       "      <th>Wood Deck SF</th>\n",
       "      <th>Open Porch SF</th>\n",
       "      <th>Enclosed Porch</th>\n",
       "      <th>3Ssn Porch</th>\n",
       "      <th>Screen Porch</th>\n",
       "      <th>Pool Area</th>\n",
       "      <th>Misc Val</th>\n",
       "      <th>Mo Sold</th>\n",
       "      <th>Yr Sold</th>\n",
       "      <th>SalePrice</th>\n",
       "    </tr>\n",
       "  </thead>\n",
       "  <tbody>\n",
       "    <tr>\n",
       "      <th>count</th>\n",
       "      <td>2051.000000</td>\n",
       "      <td>2.051000e+03</td>\n",
       "      <td>2051.000000</td>\n",
       "      <td>1721.000000</td>\n",
       "      <td>2051.000000</td>\n",
       "      <td>2051.000000</td>\n",
       "      <td>2051.000000</td>\n",
       "      <td>2051.000000</td>\n",
       "      <td>2051.000000</td>\n",
       "      <td>2029.000000</td>\n",
       "      <td>...</td>\n",
       "      <td>2051.000000</td>\n",
       "      <td>2051.000000</td>\n",
       "      <td>2051.000000</td>\n",
       "      <td>2051.000000</td>\n",
       "      <td>2051.000000</td>\n",
       "      <td>2051.000000</td>\n",
       "      <td>2051.000000</td>\n",
       "      <td>2051.000000</td>\n",
       "      <td>2051.000000</td>\n",
       "      <td>2051.000000</td>\n",
       "    </tr>\n",
       "    <tr>\n",
       "      <th>mean</th>\n",
       "      <td>1474.033642</td>\n",
       "      <td>7.135900e+08</td>\n",
       "      <td>57.008776</td>\n",
       "      <td>69.055200</td>\n",
       "      <td>10065.208191</td>\n",
       "      <td>6.112140</td>\n",
       "      <td>5.562165</td>\n",
       "      <td>1971.708922</td>\n",
       "      <td>1984.190151</td>\n",
       "      <td>99.695909</td>\n",
       "      <td>...</td>\n",
       "      <td>93.833740</td>\n",
       "      <td>47.556802</td>\n",
       "      <td>22.571916</td>\n",
       "      <td>2.591419</td>\n",
       "      <td>16.511458</td>\n",
       "      <td>2.397855</td>\n",
       "      <td>51.574354</td>\n",
       "      <td>6.219893</td>\n",
       "      <td>2007.775719</td>\n",
       "      <td>181469.701609</td>\n",
       "    </tr>\n",
       "    <tr>\n",
       "      <th>std</th>\n",
       "      <td>843.980841</td>\n",
       "      <td>1.886918e+08</td>\n",
       "      <td>42.824223</td>\n",
       "      <td>23.260653</td>\n",
       "      <td>6742.488909</td>\n",
       "      <td>1.426271</td>\n",
       "      <td>1.104497</td>\n",
       "      <td>30.177889</td>\n",
       "      <td>21.036250</td>\n",
       "      <td>174.963129</td>\n",
       "      <td>...</td>\n",
       "      <td>128.549416</td>\n",
       "      <td>66.747241</td>\n",
       "      <td>59.845110</td>\n",
       "      <td>25.229615</td>\n",
       "      <td>57.374204</td>\n",
       "      <td>37.782570</td>\n",
       "      <td>573.393985</td>\n",
       "      <td>2.744736</td>\n",
       "      <td>1.312014</td>\n",
       "      <td>79258.659352</td>\n",
       "    </tr>\n",
       "    <tr>\n",
       "      <th>min</th>\n",
       "      <td>1.000000</td>\n",
       "      <td>5.263011e+08</td>\n",
       "      <td>20.000000</td>\n",
       "      <td>21.000000</td>\n",
       "      <td>1300.000000</td>\n",
       "      <td>1.000000</td>\n",
       "      <td>1.000000</td>\n",
       "      <td>1872.000000</td>\n",
       "      <td>1950.000000</td>\n",
       "      <td>0.000000</td>\n",
       "      <td>...</td>\n",
       "      <td>0.000000</td>\n",
       "      <td>0.000000</td>\n",
       "      <td>0.000000</td>\n",
       "      <td>0.000000</td>\n",
       "      <td>0.000000</td>\n",
       "      <td>0.000000</td>\n",
       "      <td>0.000000</td>\n",
       "      <td>1.000000</td>\n",
       "      <td>2006.000000</td>\n",
       "      <td>12789.000000</td>\n",
       "    </tr>\n",
       "    <tr>\n",
       "      <th>25%</th>\n",
       "      <td>753.500000</td>\n",
       "      <td>5.284581e+08</td>\n",
       "      <td>20.000000</td>\n",
       "      <td>58.000000</td>\n",
       "      <td>7500.000000</td>\n",
       "      <td>5.000000</td>\n",
       "      <td>5.000000</td>\n",
       "      <td>1953.500000</td>\n",
       "      <td>1964.500000</td>\n",
       "      <td>0.000000</td>\n",
       "      <td>...</td>\n",
       "      <td>0.000000</td>\n",
       "      <td>0.000000</td>\n",
       "      <td>0.000000</td>\n",
       "      <td>0.000000</td>\n",
       "      <td>0.000000</td>\n",
       "      <td>0.000000</td>\n",
       "      <td>0.000000</td>\n",
       "      <td>4.000000</td>\n",
       "      <td>2007.000000</td>\n",
       "      <td>129825.000000</td>\n",
       "    </tr>\n",
       "    <tr>\n",
       "      <th>50%</th>\n",
       "      <td>1486.000000</td>\n",
       "      <td>5.354532e+08</td>\n",
       "      <td>50.000000</td>\n",
       "      <td>68.000000</td>\n",
       "      <td>9430.000000</td>\n",
       "      <td>6.000000</td>\n",
       "      <td>5.000000</td>\n",
       "      <td>1974.000000</td>\n",
       "      <td>1993.000000</td>\n",
       "      <td>0.000000</td>\n",
       "      <td>...</td>\n",
       "      <td>0.000000</td>\n",
       "      <td>27.000000</td>\n",
       "      <td>0.000000</td>\n",
       "      <td>0.000000</td>\n",
       "      <td>0.000000</td>\n",
       "      <td>0.000000</td>\n",
       "      <td>0.000000</td>\n",
       "      <td>6.000000</td>\n",
       "      <td>2008.000000</td>\n",
       "      <td>162500.000000</td>\n",
       "    </tr>\n",
       "    <tr>\n",
       "      <th>75%</th>\n",
       "      <td>2198.000000</td>\n",
       "      <td>9.071801e+08</td>\n",
       "      <td>70.000000</td>\n",
       "      <td>80.000000</td>\n",
       "      <td>11513.500000</td>\n",
       "      <td>7.000000</td>\n",
       "      <td>6.000000</td>\n",
       "      <td>2001.000000</td>\n",
       "      <td>2004.000000</td>\n",
       "      <td>161.000000</td>\n",
       "      <td>...</td>\n",
       "      <td>168.000000</td>\n",
       "      <td>70.000000</td>\n",
       "      <td>0.000000</td>\n",
       "      <td>0.000000</td>\n",
       "      <td>0.000000</td>\n",
       "      <td>0.000000</td>\n",
       "      <td>0.000000</td>\n",
       "      <td>8.000000</td>\n",
       "      <td>2009.000000</td>\n",
       "      <td>214000.000000</td>\n",
       "    </tr>\n",
       "    <tr>\n",
       "      <th>max</th>\n",
       "      <td>2930.000000</td>\n",
       "      <td>9.241520e+08</td>\n",
       "      <td>190.000000</td>\n",
       "      <td>313.000000</td>\n",
       "      <td>159000.000000</td>\n",
       "      <td>10.000000</td>\n",
       "      <td>9.000000</td>\n",
       "      <td>2010.000000</td>\n",
       "      <td>2010.000000</td>\n",
       "      <td>1600.000000</td>\n",
       "      <td>...</td>\n",
       "      <td>1424.000000</td>\n",
       "      <td>547.000000</td>\n",
       "      <td>432.000000</td>\n",
       "      <td>508.000000</td>\n",
       "      <td>490.000000</td>\n",
       "      <td>800.000000</td>\n",
       "      <td>17000.000000</td>\n",
       "      <td>12.000000</td>\n",
       "      <td>2010.000000</td>\n",
       "      <td>611657.000000</td>\n",
       "    </tr>\n",
       "  </tbody>\n",
       "</table>\n",
       "<p>8 rows × 39 columns</p>\n",
       "</div>"
      ],
      "text/plain": [
       "                Id           PID  MS SubClass  Lot Frontage       Lot Area  \\\n",
       "count  2051.000000  2.051000e+03  2051.000000   1721.000000    2051.000000   \n",
       "mean   1474.033642  7.135900e+08    57.008776     69.055200   10065.208191   \n",
       "std     843.980841  1.886918e+08    42.824223     23.260653    6742.488909   \n",
       "min       1.000000  5.263011e+08    20.000000     21.000000    1300.000000   \n",
       "25%     753.500000  5.284581e+08    20.000000     58.000000    7500.000000   \n",
       "50%    1486.000000  5.354532e+08    50.000000     68.000000    9430.000000   \n",
       "75%    2198.000000  9.071801e+08    70.000000     80.000000   11513.500000   \n",
       "max    2930.000000  9.241520e+08   190.000000    313.000000  159000.000000   \n",
       "\n",
       "       Overall Qual  Overall Cond   Year Built  Year Remod/Add  Mas Vnr Area  \\\n",
       "count   2051.000000   2051.000000  2051.000000     2051.000000   2029.000000   \n",
       "mean       6.112140      5.562165  1971.708922     1984.190151     99.695909   \n",
       "std        1.426271      1.104497    30.177889       21.036250    174.963129   \n",
       "min        1.000000      1.000000  1872.000000     1950.000000      0.000000   \n",
       "25%        5.000000      5.000000  1953.500000     1964.500000      0.000000   \n",
       "50%        6.000000      5.000000  1974.000000     1993.000000      0.000000   \n",
       "75%        7.000000      6.000000  2001.000000     2004.000000    161.000000   \n",
       "max       10.000000      9.000000  2010.000000     2010.000000   1600.000000   \n",
       "\n",
       "       ...  Wood Deck SF  Open Porch SF  Enclosed Porch   3Ssn Porch  \\\n",
       "count  ...   2051.000000    2051.000000     2051.000000  2051.000000   \n",
       "mean   ...     93.833740      47.556802       22.571916     2.591419   \n",
       "std    ...    128.549416      66.747241       59.845110    25.229615   \n",
       "min    ...      0.000000       0.000000        0.000000     0.000000   \n",
       "25%    ...      0.000000       0.000000        0.000000     0.000000   \n",
       "50%    ...      0.000000      27.000000        0.000000     0.000000   \n",
       "75%    ...    168.000000      70.000000        0.000000     0.000000   \n",
       "max    ...   1424.000000     547.000000      432.000000   508.000000   \n",
       "\n",
       "       Screen Porch    Pool Area      Misc Val      Mo Sold      Yr Sold  \\\n",
       "count   2051.000000  2051.000000   2051.000000  2051.000000  2051.000000   \n",
       "mean      16.511458     2.397855     51.574354     6.219893  2007.775719   \n",
       "std       57.374204    37.782570    573.393985     2.744736     1.312014   \n",
       "min        0.000000     0.000000      0.000000     1.000000  2006.000000   \n",
       "25%        0.000000     0.000000      0.000000     4.000000  2007.000000   \n",
       "50%        0.000000     0.000000      0.000000     6.000000  2008.000000   \n",
       "75%        0.000000     0.000000      0.000000     8.000000  2009.000000   \n",
       "max      490.000000   800.000000  17000.000000    12.000000  2010.000000   \n",
       "\n",
       "           SalePrice  \n",
       "count    2051.000000  \n",
       "mean   181469.701609  \n",
       "std     79258.659352  \n",
       "min     12789.000000  \n",
       "25%    129825.000000  \n",
       "50%    162500.000000  \n",
       "75%    214000.000000  \n",
       "max    611657.000000  \n",
       "\n",
       "[8 rows x 39 columns]"
      ]
     },
     "execution_count": 9,
     "metadata": {},
     "output_type": "execute_result"
    }
   ],
   "source": [
    "df_train_info = df_train.describe()\n",
    "df_train_info"
   ]
  },
  {
   "cell_type": "code",
   "execution_count": 10,
   "metadata": {},
   "outputs": [
    {
     "data": {
      "text/plain": [
       "Pool QC           2042\n",
       "Misc Feature      1986\n",
       "Alley             1911\n",
       "Fence             1651\n",
       "Fireplace Qu      1000\n",
       "Lot Frontage       330\n",
       "Garage Yr Blt      114\n",
       "Garage Cond        114\n",
       "Garage Qual        114\n",
       "Garage Finish      114\n",
       "Garage Type        113\n",
       "Bsmt Exposure       58\n",
       "BsmtFin Type 2      56\n",
       "Bsmt Cond           55\n",
       "Bsmt Qual           55\n",
       "BsmtFin Type 1      55\n",
       "Mas Vnr Type        22\n",
       "Mas Vnr Area        22\n",
       "Bsmt Half Bath       2\n",
       "Bsmt Full Bath       2\n",
       "Garage Cars          1\n",
       "BsmtFin SF 1         1\n",
       "BsmtFin SF 2         1\n",
       "Bsmt Unf SF          1\n",
       "Garage Area          1\n",
       "Total Bsmt SF        1\n",
       "dtype: int64"
      ]
     },
     "execution_count": 10,
     "metadata": {},
     "output_type": "execute_result"
    }
   ],
   "source": [
    "# Check for nulls in columns\n",
    "null_cols = df_train.isnull().sum()\n",
    "mask_null = null_cols > 0\n",
    "null_cols[mask_null].sort_values(ascending=False)"
   ]
  },
  {
   "cell_type": "code",
   "execution_count": 11,
   "metadata": {},
   "outputs": [
    {
     "data": {
      "text/plain": [
       "114     16\n",
       "580     15\n",
       "437     15\n",
       "1327    15\n",
       "2010    15\n",
       "1594    15\n",
       "1428    15\n",
       "1098    14\n",
       "700     14\n",
       "256     14\n",
       "276     12\n",
       "1007    11\n",
       "1049    11\n",
       "737     11\n",
       "514     11\n",
       "1211    11\n",
       "616     11\n",
       "1372    11\n",
       "334     11\n",
       "1125    11\n",
       "1464    10\n",
       "1686    10\n",
       "964     10\n",
       "954     10\n",
       "942     10\n",
       "924     10\n",
       "901     10\n",
       "878     10\n",
       "824     10\n",
       "1799    10\n",
       "        ..\n",
       "1961     3\n",
       "1844     3\n",
       "1471     3\n",
       "159      3\n",
       "1989     2\n",
       "761      2\n",
       "657      2\n",
       "1225     2\n",
       "1246     2\n",
       "149      2\n",
       "424      2\n",
       "1134     2\n",
       "1635     2\n",
       "29       2\n",
       "1422     2\n",
       "1679     2\n",
       "1707     2\n",
       "1373     2\n",
       "1002     2\n",
       "2032     2\n",
       "107      2\n",
       "1652     2\n",
       "1130     2\n",
       "110      2\n",
       "1133     2\n",
       "1405     2\n",
       "1756     2\n",
       "1759     2\n",
       "52       1\n",
       "974      1\n",
       "Length: 2051, dtype: int64"
      ]
     },
     "execution_count": 11,
     "metadata": {},
     "output_type": "execute_result"
    }
   ],
   "source": [
    "# Check for nulls in rows\n",
    "null_rows = df_train.isnull().sum(axis=1)\n",
    "mask_null = null_rows > 0\n",
    "null_rows[mask_null].sort_values(ascending=False)"
   ]
  },
  {
   "cell_type": "code",
   "execution_count": 12,
   "metadata": {},
   "outputs": [
    {
     "name": "stdout",
     "output_type": "stream",
     "text": [
      "<class 'pandas.core.frame.DataFrame'>\n",
      "RangeIndex: 2051 entries, 0 to 2050\n",
      "Data columns (total 81 columns):\n",
      "Id                 2051 non-null int64\n",
      "PID                2051 non-null int64\n",
      "MS SubClass        2051 non-null int64\n",
      "MS Zoning          2051 non-null object\n",
      "Lot Frontage       1721 non-null float64\n",
      "Lot Area           2051 non-null int64\n",
      "Street             2051 non-null object\n",
      "Alley              140 non-null object\n",
      "Lot Shape          2051 non-null object\n",
      "Land Contour       2051 non-null object\n",
      "Utilities          2051 non-null object\n",
      "Lot Config         2051 non-null object\n",
      "Land Slope         2051 non-null object\n",
      "Neighborhood       2051 non-null object\n",
      "Condition 1        2051 non-null object\n",
      "Condition 2        2051 non-null object\n",
      "Bldg Type          2051 non-null object\n",
      "House Style        2051 non-null object\n",
      "Overall Qual       2051 non-null int64\n",
      "Overall Cond       2051 non-null int64\n",
      "Year Built         2051 non-null int64\n",
      "Year Remod/Add     2051 non-null int64\n",
      "Roof Style         2051 non-null object\n",
      "Roof Matl          2051 non-null object\n",
      "Exterior 1st       2051 non-null object\n",
      "Exterior 2nd       2051 non-null object\n",
      "Mas Vnr Type       2029 non-null object\n",
      "Mas Vnr Area       2029 non-null float64\n",
      "Exter Qual         2051 non-null object\n",
      "Exter Cond         2051 non-null object\n",
      "Foundation         2051 non-null object\n",
      "Bsmt Qual          1996 non-null object\n",
      "Bsmt Cond          1996 non-null object\n",
      "Bsmt Exposure      1993 non-null object\n",
      "BsmtFin Type 1     1996 non-null object\n",
      "BsmtFin SF 1       2050 non-null float64\n",
      "BsmtFin Type 2     1995 non-null object\n",
      "BsmtFin SF 2       2050 non-null float64\n",
      "Bsmt Unf SF        2050 non-null float64\n",
      "Total Bsmt SF      2050 non-null float64\n",
      "Heating            2051 non-null object\n",
      "Heating QC         2051 non-null object\n",
      "Central Air        2051 non-null object\n",
      "Electrical         2051 non-null object\n",
      "1st Flr SF         2051 non-null int64\n",
      "2nd Flr SF         2051 non-null int64\n",
      "Low Qual Fin SF    2051 non-null int64\n",
      "Gr Liv Area        2051 non-null int64\n",
      "Bsmt Full Bath     2049 non-null float64\n",
      "Bsmt Half Bath     2049 non-null float64\n",
      "Full Bath          2051 non-null int64\n",
      "Half Bath          2051 non-null int64\n",
      "Bedroom AbvGr      2051 non-null int64\n",
      "Kitchen AbvGr      2051 non-null int64\n",
      "Kitchen Qual       2051 non-null object\n",
      "TotRms AbvGrd      2051 non-null int64\n",
      "Functional         2051 non-null object\n",
      "Fireplaces         2051 non-null int64\n",
      "Fireplace Qu       1051 non-null object\n",
      "Garage Type        1938 non-null object\n",
      "Garage Yr Blt      1937 non-null float64\n",
      "Garage Finish      1937 non-null object\n",
      "Garage Cars        2050 non-null float64\n",
      "Garage Area        2050 non-null float64\n",
      "Garage Qual        1937 non-null object\n",
      "Garage Cond        1937 non-null object\n",
      "Paved Drive        2051 non-null object\n",
      "Wood Deck SF       2051 non-null int64\n",
      "Open Porch SF      2051 non-null int64\n",
      "Enclosed Porch     2051 non-null int64\n",
      "3Ssn Porch         2051 non-null int64\n",
      "Screen Porch       2051 non-null int64\n",
      "Pool Area          2051 non-null int64\n",
      "Pool QC            9 non-null object\n",
      "Fence              400 non-null object\n",
      "Misc Feature       65 non-null object\n",
      "Misc Val           2051 non-null int64\n",
      "Mo Sold            2051 non-null int64\n",
      "Yr Sold            2051 non-null int64\n",
      "Sale Type          2051 non-null object\n",
      "SalePrice          2051 non-null int64\n",
      "dtypes: float64(11), int64(28), object(42)\n",
      "memory usage: 1.3+ MB\n"
     ]
    }
   ],
   "source": [
    "df_train_info = df_train.info()"
   ]
  },
  {
   "cell_type": "code",
   "execution_count": 13,
   "metadata": {},
   "outputs": [
    {
     "data": {
      "text/plain": [
       "Pool QC               9\n",
       "Misc Feature         65\n",
       "Alley               140\n",
       "Fence               400\n",
       "Fireplace Qu       1051\n",
       "Lot Frontage       1721\n",
       "Garage Finish      1937\n",
       "Garage Qual        1937\n",
       "Garage Cond        1937\n",
       "Garage Yr Blt      1937\n",
       "Garage Type        1938\n",
       "Bsmt Exposure      1993\n",
       "BsmtFin Type 2     1995\n",
       "Bsmt Qual          1996\n",
       "BsmtFin Type 1     1996\n",
       "Bsmt Cond          1996\n",
       "Mas Vnr Type       2029\n",
       "Mas Vnr Area       2029\n",
       "Bsmt Full Bath     2049\n",
       "Bsmt Half Bath     2049\n",
       "BsmtFin SF 1       2050\n",
       "Garage Area        2050\n",
       "BsmtFin SF 2       2050\n",
       "Bsmt Unf SF        2050\n",
       "Total Bsmt SF      2050\n",
       "Garage Cars        2050\n",
       "Bedroom AbvGr      2051\n",
       "Half Bath          2051\n",
       "Full Bath          2051\n",
       "Kitchen AbvGr      2051\n",
       "                   ... \n",
       "Lot Area           2051\n",
       "Street             2051\n",
       "Lot Shape          2051\n",
       "Land Contour       2051\n",
       "Utilities          2051\n",
       "Lot Config         2051\n",
       "Land Slope         2051\n",
       "Neighborhood       2051\n",
       "Condition 1        2051\n",
       "Condition 2        2051\n",
       "Bldg Type          2051\n",
       "House Style        2051\n",
       "Overall Qual       2051\n",
       "Overall Cond       2051\n",
       "1st Flr SF         2051\n",
       "Electrical         2051\n",
       "Central Air        2051\n",
       "Heating QC         2051\n",
       "Sale Type          2051\n",
       "Foundation         2051\n",
       "Low Qual Fin SF    2051\n",
       "Exter Cond         2051\n",
       "Exterior 2nd       2051\n",
       "Exterior 1st       2051\n",
       "Roof Matl          2051\n",
       "Roof Style         2051\n",
       "Year Remod/Add     2051\n",
       "Year Built         2051\n",
       "Exter Qual         2051\n",
       "SalePrice          2051\n",
       "Length: 81, dtype: int64"
      ]
     },
     "execution_count": 13,
     "metadata": {},
     "output_type": "execute_result"
    }
   ],
   "source": [
    "# find columns with the most empty cells\n",
    "df_train.count(axis=0).sort_values()"
   ]
  },
  {
   "cell_type": "markdown",
   "metadata": {},
   "source": [
    "### Clean df_train and df_test"
   ]
  },
  {
   "cell_type": "code",
   "execution_count": 14,
   "metadata": {},
   "outputs": [],
   "source": [
    "# rename columns\n",
    "df_train.columns = df_cols['new_name']\n",
    "df_test.columns = df_cols['new_name'][0:-1]"
   ]
  },
  {
   "cell_type": "code",
   "execution_count": 15,
   "metadata": {},
   "outputs": [
    {
     "name": "stdout",
     "output_type": "stream",
     "text": [
      "before: 2051\n",
      "after: 2049\n"
     ]
    }
   ],
   "source": [
    "# df_train: option to remove outliers\n",
    "# df_test: do not remove outliers\n",
    "\n",
    "if remove_outliers_flag == True:\n",
    "    \n",
    "    print('before:',len(df_train))\n",
    "    \n",
    "    mask_no_outliers = df_train['grd_total_area'] > 4000\n",
    "    df_train = df_train[~mask_no_outliers]\n",
    "    \n",
    "    print('after:',len(df_train))"
   ]
  },
  {
   "cell_type": "code",
   "execution_count": 16,
   "metadata": {},
   "outputs": [],
   "source": [
    "# convert all string in cells to lowercase -> prevent duplicates when creating dummies\n",
    "df_train = df_train.applymap(lambda s:s.lower() if type(s) == str else s)\n",
    "df_test = df_test.applymap(lambda s:s.lower() if type(s) == str else s)"
   ]
  },
  {
   "cell_type": "code",
   "execution_count": 17,
   "metadata": {},
   "outputs": [],
   "source": [
    "# fill nan/empty cells with na\n",
    "cols = ['pool_qual','bsmt_qual','fireplace_score','garage_qual','garage_cond','bsmt_type1_score','bsmt_type2_score']\n",
    "\n",
    "for col in cols:\n",
    "    #df_train[col] = df_train[col].str.lower()\n",
    "    df_train[col] = df_train[col].fillna(value='na')\n",
    "    \n",
    "    #df_test[col] = df_test[col].str.lower()\n",
    "    df_test[col] = df_test[col].fillna(value='na')"
   ]
  },
  {
   "cell_type": "code",
   "execution_count": 18,
   "metadata": {},
   "outputs": [],
   "source": [
    "# fill nan/empty cells with 0\n",
    "cols = ['bath_half_bsmt_num','bath_full_bsmt_num','garage_area','garage_car_num','bsmt_total_area',\n",
    "        'bsmt_unfinish_area','bsmt_type2_area','bsmt_type1_area']\n",
    "\n",
    "for col in cols:\n",
    "    df_train[col] = df_train[col].fillna(value='0')\n",
    "    df_test[col] = df_test[col].fillna(value='0')"
   ]
  },
  {
   "cell_type": "code",
   "execution_count": 19,
   "metadata": {},
   "outputs": [
    {
     "data": {
      "text/html": [
       "<div>\n",
       "<style scoped>\n",
       "    .dataframe tbody tr th:only-of-type {\n",
       "        vertical-align: middle;\n",
       "    }\n",
       "\n",
       "    .dataframe tbody tr th {\n",
       "        vertical-align: top;\n",
       "    }\n",
       "\n",
       "    .dataframe thead th {\n",
       "        text-align: right;\n",
       "    }\n",
       "</style>\n",
       "<table border=\"1\" class=\"dataframe\">\n",
       "  <thead>\n",
       "    <tr style=\"text-align: right;\">\n",
       "      <th>new_name</th>\n",
       "      <th>bath_half_bsmt_num</th>\n",
       "      <th>bath_full_bsmt_num</th>\n",
       "      <th>garage_area</th>\n",
       "      <th>garage_car_num</th>\n",
       "      <th>bsmt_total_area</th>\n",
       "      <th>bsmt_unfinish_area</th>\n",
       "      <th>bsmt_type2_area</th>\n",
       "      <th>bsmt_type1_area</th>\n",
       "    </tr>\n",
       "  </thead>\n",
       "  <tbody>\n",
       "    <tr>\n",
       "      <th>0</th>\n",
       "      <td>0</td>\n",
       "      <td>0</td>\n",
       "      <td>475</td>\n",
       "      <td>2</td>\n",
       "      <td>725</td>\n",
       "      <td>192</td>\n",
       "      <td>0</td>\n",
       "      <td>533</td>\n",
       "    </tr>\n",
       "    <tr>\n",
       "      <th>1</th>\n",
       "      <td>0</td>\n",
       "      <td>1</td>\n",
       "      <td>559</td>\n",
       "      <td>2</td>\n",
       "      <td>913</td>\n",
       "      <td>276</td>\n",
       "      <td>0</td>\n",
       "      <td>637</td>\n",
       "    </tr>\n",
       "    <tr>\n",
       "      <th>2</th>\n",
       "      <td>0</td>\n",
       "      <td>1</td>\n",
       "      <td>246</td>\n",
       "      <td>1</td>\n",
       "      <td>1057</td>\n",
       "      <td>326</td>\n",
       "      <td>0</td>\n",
       "      <td>731</td>\n",
       "    </tr>\n",
       "    <tr>\n",
       "      <th>3</th>\n",
       "      <td>0</td>\n",
       "      <td>0</td>\n",
       "      <td>400</td>\n",
       "      <td>2</td>\n",
       "      <td>384</td>\n",
       "      <td>384</td>\n",
       "      <td>0</td>\n",
       "      <td>0</td>\n",
       "    </tr>\n",
       "    <tr>\n",
       "      <th>4</th>\n",
       "      <td>0</td>\n",
       "      <td>0</td>\n",
       "      <td>484</td>\n",
       "      <td>2</td>\n",
       "      <td>676</td>\n",
       "      <td>676</td>\n",
       "      <td>0</td>\n",
       "      <td>0</td>\n",
       "    </tr>\n",
       "  </tbody>\n",
       "</table>\n",
       "</div>"
      ],
      "text/plain": [
       "new_name bath_half_bsmt_num bath_full_bsmt_num garage_area garage_car_num  \\\n",
       "0                         0                  0         475              2   \n",
       "1                         0                  1         559              2   \n",
       "2                         0                  1         246              1   \n",
       "3                         0                  0         400              2   \n",
       "4                         0                  0         484              2   \n",
       "\n",
       "new_name bsmt_total_area bsmt_unfinish_area bsmt_type2_area bsmt_type1_area  \n",
       "0                    725                192               0             533  \n",
       "1                    913                276               0             637  \n",
       "2                   1057                326               0             731  \n",
       "3                    384                384               0               0  \n",
       "4                    676                676               0               0  "
      ]
     },
     "execution_count": 19,
     "metadata": {},
     "output_type": "execute_result"
    }
   ],
   "source": [
    "df_train[cols].head()"
   ]
  },
  {
   "cell_type": "code",
   "execution_count": 20,
   "metadata": {},
   "outputs": [
    {
     "data": {
      "text/html": [
       "<div>\n",
       "<style scoped>\n",
       "    .dataframe tbody tr th:only-of-type {\n",
       "        vertical-align: middle;\n",
       "    }\n",
       "\n",
       "    .dataframe tbody tr th {\n",
       "        vertical-align: top;\n",
       "    }\n",
       "\n",
       "    .dataframe thead th {\n",
       "        text-align: right;\n",
       "    }\n",
       "</style>\n",
       "<table border=\"1\" class=\"dataframe\">\n",
       "  <thead>\n",
       "    <tr style=\"text-align: right;\">\n",
       "      <th>new_name</th>\n",
       "      <th>bath_half_bsmt_num</th>\n",
       "      <th>bath_full_bsmt_num</th>\n",
       "      <th>garage_area</th>\n",
       "      <th>garage_car_num</th>\n",
       "      <th>bsmt_total_area</th>\n",
       "      <th>bsmt_unfinish_area</th>\n",
       "      <th>bsmt_type2_area</th>\n",
       "      <th>bsmt_type1_area</th>\n",
       "    </tr>\n",
       "  </thead>\n",
       "  <tbody>\n",
       "    <tr>\n",
       "      <th>0</th>\n",
       "      <td>0</td>\n",
       "      <td>0</td>\n",
       "      <td>440</td>\n",
       "      <td>1</td>\n",
       "      <td>1020</td>\n",
       "      <td>1020</td>\n",
       "      <td>0</td>\n",
       "      <td>0</td>\n",
       "    </tr>\n",
       "    <tr>\n",
       "      <th>1</th>\n",
       "      <td>0</td>\n",
       "      <td>0</td>\n",
       "      <td>580</td>\n",
       "      <td>2</td>\n",
       "      <td>1967</td>\n",
       "      <td>1967</td>\n",
       "      <td>0</td>\n",
       "      <td>0</td>\n",
       "    </tr>\n",
       "    <tr>\n",
       "      <th>2</th>\n",
       "      <td>0</td>\n",
       "      <td>1</td>\n",
       "      <td>426</td>\n",
       "      <td>2</td>\n",
       "      <td>654</td>\n",
       "      <td>100</td>\n",
       "      <td>0</td>\n",
       "      <td>554</td>\n",
       "    </tr>\n",
       "    <tr>\n",
       "      <th>3</th>\n",
       "      <td>0</td>\n",
       "      <td>0</td>\n",
       "      <td>480</td>\n",
       "      <td>2</td>\n",
       "      <td>968</td>\n",
       "      <td>968</td>\n",
       "      <td>0</td>\n",
       "      <td>0</td>\n",
       "    </tr>\n",
       "    <tr>\n",
       "      <th>4</th>\n",
       "      <td>0</td>\n",
       "      <td>1</td>\n",
       "      <td>514</td>\n",
       "      <td>2</td>\n",
       "      <td>1394</td>\n",
       "      <td>785</td>\n",
       "      <td>0</td>\n",
       "      <td>609</td>\n",
       "    </tr>\n",
       "  </tbody>\n",
       "</table>\n",
       "</div>"
      ],
      "text/plain": [
       "new_name  bath_half_bsmt_num  bath_full_bsmt_num  garage_area  garage_car_num  \\\n",
       "0                          0                   0          440               1   \n",
       "1                          0                   0          580               2   \n",
       "2                          0                   1          426               2   \n",
       "3                          0                   0          480               2   \n",
       "4                          0                   1          514               2   \n",
       "\n",
       "new_name  bsmt_total_area  bsmt_unfinish_area  bsmt_type2_area  \\\n",
       "0                    1020                1020                0   \n",
       "1                    1967                1967                0   \n",
       "2                     654                 100                0   \n",
       "3                     968                 968                0   \n",
       "4                    1394                 785                0   \n",
       "\n",
       "new_name  bsmt_type1_area  \n",
       "0                       0  \n",
       "1                       0  \n",
       "2                     554  \n",
       "3                       0  \n",
       "4                     609  "
      ]
     },
     "execution_count": 20,
     "metadata": {},
     "output_type": "execute_result"
    }
   ],
   "source": [
    "df_test[cols].head()"
   ]
  },
  {
   "cell_type": "markdown",
   "metadata": {},
   "source": [
    "### Output Clean Data"
   ]
  },
  {
   "cell_type": "code",
   "execution_count": 21,
   "metadata": {},
   "outputs": [],
   "source": [
    "# output to csv\n",
    "\n",
    "mid_path = '../data/mid/'\n",
    "\n",
    "df_train.to_csv(mid_path + 'df_train_clean.csv')\n",
    "df_test.to_csv(mid_path + 'df_test_clean.csv')\n",
    "\n",
    "#df_corr.to_csv(mid_path + 'df_corr.csv')"
   ]
  },
  {
   "cell_type": "markdown",
   "metadata": {},
   "source": [
    "### Prepare Data "
   ]
  },
  {
   "cell_type": "code",
   "execution_count": null,
   "metadata": {},
   "outputs": [],
   "source": []
  },
  {
   "cell_type": "markdown",
   "metadata": {},
   "source": [
    "### EDA"
   ]
  },
  {
   "cell_type": "code",
   "execution_count": 22,
   "metadata": {},
   "outputs": [],
   "source": [
    "# df_train heatmap\n",
    "#fig, ax = plt.subplots(figsize=(20, 10))\n",
    "#sns.heatmap(df_train.corr())"
   ]
  },
  {
   "cell_type": "code",
   "execution_count": 23,
   "metadata": {},
   "outputs": [
    {
     "data": {
      "text/plain": [
       "<matplotlib.axes._subplots.AxesSubplot at 0x24a4afd1e10>"
      ]
     },
     "execution_count": 23,
     "metadata": {},
     "output_type": "execute_result"
    },
    {
     "data": {
      "image/png": "[encoded data removed]",
      "text/plain": [
       "<Figure size 1440x720 with 2 Axes>"
      ]
     },
     "metadata": {
      "needs_background": "light"
     },
     "output_type": "display_data"
    }
   ],
   "source": [
    "# df_train heatmap (staircase)\n",
    "corr = df_train.corr()\n",
    "mask = np.zeros_like(corr)\n",
    "mask[np.triu_indices_from(mask)] = True\n",
    "\n",
    "fig, ax = plt.subplots(figsize=(20, 10))\n",
    "sns.heatmap(corr, mask=mask, vmax=.3, square=True,cmap=\"coolwarm_r\")    \n",
    "\n",
    "#with sns.axes_style(\"whitegrid\"):\n",
    "    #ax = sns.heatmap(corr, mask=mask, vmax=.3, square=True,cmap=\"RdBu\")"
   ]
  },
  {
   "cell_type": "code",
   "execution_count": 24,
   "metadata": {},
   "outputs": [
    {
     "name": "stdout",
     "output_type": "stream",
     "text": [
      "(31, 31)\n"
     ]
    },
    {
     "data": {
      "text/plain": [
       "new_name\n",
       "sale_price                  1.000000\n",
       "house_qual                  0.803462\n",
       "grd_total_area              0.719463\n",
       "floor_1_area                0.648252\n",
       "year_built                  0.572405\n",
       "year_remodel                0.550872\n",
       "bath_full_grd_num           0.538225\n",
       "garage_year                 0.534514\n",
       "wall_area                   0.520023\n",
       "rooms_num                   0.509775\n",
       "fireplace_num               0.473783\n",
       "lot_frontage                0.355530\n",
       "porch_open_area             0.338545\n",
       "wooddeck_area               0.327629\n",
       "lot_area                    0.303744\n",
       "bath_half_grd_num           0.283372\n",
       "floor_2_area                0.248826\n",
       "bedroom_grd_num             0.137145\n",
       "porch_screen_area           0.134555\n",
       "porch_3season_area          0.048721\n",
       "sold_month                  0.032508\n",
       "pool_area                   0.025805\n",
       "misc_value                 -0.010323\n",
       "sold_year                  -0.015174\n",
       "floor_lowqual_total_area   -0.041608\n",
       "id                         -0.051416\n",
       "lot_subclass               -0.087331\n",
       "house_cond                 -0.097093\n",
       "kitchen_num                -0.125472\n",
       "porch_enclosed_area        -0.135713\n",
       "pid                        -0.255068\n",
       "Name: sale_price, dtype: float64"
      ]
     },
     "execution_count": 24,
     "metadata": {},
     "output_type": "execute_result"
    }
   ],
   "source": [
    "# inspect correlation matrix\n",
    "df_corr = df_train.corr()\n",
    "print(df_corr.shape)\n",
    "df_corr['sale_price'].sort_values(ascending=False)"
   ]
  },
  {
   "cell_type": "code",
   "execution_count": 25,
   "metadata": {},
   "outputs": [
    {
     "data": {
      "image/png": "[encoded data removed]",
      "text/plain": [
       "<Figure size 720x576 with 1 Axes>"
      ]
     },
     "metadata": {
      "needs_background": "light"
     },
     "output_type": "display_data"
    }
   ],
   "source": [
    "data = df_train\n",
    "x = 'house_qual'\n",
    "y = 'sale_price'\n",
    "hue = 'lot_subclass'\n",
    "\n",
    "create_scatterplot('',data,x,y,hue) "
   ]
  },
  {
   "cell_type": "code",
   "execution_count": 29,
   "metadata": {},
   "outputs": [
    {
     "data": {
      "image/png": "[encoded data removed]",
      "text/plain": [
       "<Figure size 1080x1080 with 36 Axes>"
      ]
     },
     "metadata": {},
     "output_type": "display_data"
    }
   ],
   "source": [
    "# create histograms for all numeric columns\n",
    "df_train.hist(figsize=(15, 15));"
   ]
  },
  {
   "cell_type": "code",
   "execution_count": null,
   "metadata": {},
   "outputs": [],
   "source": [
    "data = df_train\n",
    "x = 'year_built'\n",
    "y = 'sale_price'\n",
    "\n",
    "create_scatterplot('',data,x,y)"
   ]
  },
  {
   "cell_type": "code",
   "execution_count": null,
   "metadata": {},
   "outputs": [],
   "source": [
    "data = df_train\n",
    "x = 'year_remodel'\n",
    "y = 'sale_price'\n",
    "\n",
    "create_scatterplot('',data,x,y)"
   ]
  },
  {
   "cell_type": "code",
   "execution_count": null,
   "metadata": {},
   "outputs": [],
   "source": [
    "data = df_train\n",
    "x = 'grd_total_area'\n",
    "y = 'sale_price'\n",
    "hue = 'lot_subclass'\n",
    "\n",
    "create_scatterplot('',data,x,y,hue)\n",
    "print('Set remove_outliers_flag==True to show 2 outliers (bottom right)')"
   ]
  },
  {
   "cell_type": "code",
   "execution_count": null,
   "metadata": {},
   "outputs": [],
   "source": [
    "# data = df_train\n",
    "# x = 'interact_03' # df_train['house_qual'] * df_train['grd_total_area']\n",
    "# y = 'sale_price'\n",
    "# hue = 'lot_subclass'\n",
    "\n",
    "# create_scatterplot('',data,x,y,hue)\n",
    "# print('less variance compared to above plot')"
   ]
  },
  {
   "cell_type": "code",
   "execution_count": null,
   "metadata": {},
   "outputs": [],
   "source": [
    "create_boxplot(df_train,x='lot_subclass',y='sale_price',title='Sale Price vs Lot Subclass')\n",
    "\n",
    "print(\"Most subclasses has sale price between 100K to 200K.\")\n",
    "print(\"4 subclasses have sale price above 200k and they have more outliers.\")\n",
    "print(\"I will convert lot_subclass to dummy variables for model predictions.\")"
   ]
  },
  {
   "cell_type": "code",
   "execution_count": null,
   "metadata": {},
   "outputs": [],
   "source": [
    "create_boxplot(df_train,x='sale_price',y='lot_zone',title='Sale Price vs Lot Zone')\n",
    "print('Lot Zone seems to affect Sale Price.')\n",
    "print('rl (Residential Low Density) and rm (Residential Medium Density) have outliers with high sale prices.')\n",
    "print(\"I will convert lot_zone to dummy variables for model predictions.\")"
   ]
  },
  {
   "cell_type": "code",
   "execution_count": null,
   "metadata": {},
   "outputs": [],
   "source": [
    "create_boxplot(df_train,x='sale_price',y='neighborhood')\n",
    "print('Most neighbourhoods have sale price between 100K to 250K')\n",
    "print('Stone Brook,Northridge Heights,Northridge have highest sale price.')"
   ]
  },
  {
   "cell_type": "markdown",
   "metadata": {},
   "source": [
    "### Pre-Modelling"
   ]
  },
  {
   "cell_type": "code",
   "execution_count": null,
   "metadata": {},
   "outputs": [],
   "source": [
    "#init models\n",
    "lr = LinearRegression()\n",
    "ridge = RidgeCV(alphas=np.linspace(.1, 10, 100))\n",
    "lasso = LassoCV(n_alphas=200)"
   ]
  },
  {
   "cell_type": "markdown",
   "metadata": {},
   "source": [
    "### LR Model"
   ]
  },
  {
   "cell_type": "code",
   "execution_count": null,
   "metadata": {},
   "outputs": [],
   "source": [
    "# lr_model_01\n",
    "cols = ['house_qual']\n",
    "lr_model_01 = create_lm_model(df_train,cols,cv=5)"
   ]
  },
  {
   "cell_type": "code",
   "execution_count": null,
   "metadata": {},
   "outputs": [],
   "source": [
    "# lr_model_02\n",
    "cols = ['grd_total_area']\n",
    "lr_model_02 = create_lm_model(df_train,cols,cv=5)"
   ]
  },
  {
   "cell_type": "code",
   "execution_count": null,
   "metadata": {},
   "outputs": [],
   "source": [
    "# lr_model_03\n",
    "cols = ['year_built']\n",
    "lr_model_03 = create_lm_model(df_train,cols,cv=5)"
   ]
  },
  {
   "cell_type": "code",
   "execution_count": null,
   "metadata": {},
   "outputs": [],
   "source": [
    "# lr_model_04\n",
    "cols = ['year_remodel']\n",
    "lr_model_04 = create_lm_model(df_train,cols,cv=5)"
   ]
  },
  {
   "cell_type": "code",
   "execution_count": null,
   "metadata": {},
   "outputs": [],
   "source": [
    "# lr_model_05\n",
    "cols = ['year_built','year_remodel']\n",
    "lr_model_05 = create_lm_model(df_train,cols,cv=5)"
   ]
  },
  {
   "cell_type": "code",
   "execution_count": null,
   "metadata": {},
   "outputs": [],
   "source": [
    "# lr_model_06\n",
    "cols = ['house_qual','grd_total_area']\n",
    "lr_model_06 = create_lm_model(df_train,cols,cv=5)"
   ]
  },
  {
   "cell_type": "code",
   "execution_count": null,
   "metadata": {},
   "outputs": [],
   "source": [
    "# lr_model_07\n",
    "cols = ['house_qual','year_remodel']\n",
    "lr_model_07 = create_lm_model(df_train,cols,cv=5)"
   ]
  },
  {
   "cell_type": "code",
   "execution_count": null,
   "metadata": {},
   "outputs": [],
   "source": [
    "# lr_model_interact_01\n",
    "df_train['interact_01'] = df_train['year_built'] * df_train['year_remodel']\n",
    "cols = ['interact_01']\n",
    "lr_model_interact_01 = create_lm_model(df_train,cols,cv=5)"
   ]
  },
  {
   "cell_type": "markdown",
   "metadata": {},
   "source": [
    "### Create Feature Matrix and Target"
   ]
  },
  {
   "cell_type": "code",
   "execution_count": null,
   "metadata": {},
   "outputs": [],
   "source": [
    "# scale_cols: scale columns using StandardScaler\n",
    "# dummy_cols: create dummies for these columns\n",
    "\n",
    "mask_scale = df_cols['type'] == 'Scale'\n",
    "mask_dummy = df_cols['type'] == 'Dummy'\n",
    "mask_feature = df_cols['feature'] == 'Yes'\n",
    "\n",
    "#scale_cols = df_cols['new_name'][mask_scale]\n",
    "scale_cols = df_cols['new_name'][mask_scale & mask_feature]\n",
    "\n",
    "#dummy_cols = df_cols['new_name'][mask_dummy]\n",
    "dummy_cols = df_cols['new_name'][mask_dummy & mask_feature]"
   ]
  },
  {
   "cell_type": "code",
   "execution_count": null,
   "metadata": {},
   "outputs": [],
   "source": [
    "# dummy_cols: convert numeric columns to string (before get_dummies)\n",
    "df_train[dummy_cols]= df_train[dummy_cols].astype(str)\n",
    "df_test[dummy_cols]= df_test[dummy_cols].astype(str)"
   ]
  },
  {
   "cell_type": "code",
   "execution_count": null,
   "metadata": {},
   "outputs": [],
   "source": [
    "# convert selected columns to dummies\n",
    "df_train_dummy = df_train[dummy_cols]\n",
    "df_train_dummy = pd.get_dummies(df_train_dummy,drop_first=True)\n",
    "\n",
    "df_test_dummy = df_test[dummy_cols]\n",
    "df_test_dummy = pd.get_dummies(df_test_dummy,drop_first=True)"
   ]
  },
  {
   "cell_type": "code",
   "execution_count": null,
   "metadata": {},
   "outputs": [],
   "source": [
    "# dummy columns could be missing in df_train or df_test\n",
    "# need to add back to ensure the same shape for df_train and df_test\n",
    "\n",
    "train_cols = set(df_train_dummy.columns)\n",
    "test_cols = set(df_test_dummy.columns)\n",
    "diff_cols = list(train_cols.difference(test_cols))\n",
    "\n",
    "print(diff_cols)\n",
    "print('before: ',df_train_dummy.shape,df_test_dummy.shape)\n",
    "\n",
    "for col in diff_cols:\n",
    "    if col not in train_cols:\n",
    "        df_train_dummy[col] = 0\n",
    "    if col not in test_cols:\n",
    "        df_test_dummy[col] = 0 \n",
    "        \n",
    "print('after: ',df_train_dummy.shape,df_test_dummy.shape)"
   ]
  },
  {
   "cell_type": "code",
   "execution_count": null,
   "metadata": {},
   "outputs": [],
   "source": [
    "df_train_scale = df_train[scale_cols]\n",
    "df_test_scale = df_test[scale_cols]\n",
    "\n",
    "df_train_2 = pd.concat([df_train_dummy,df_train_scale],axis=1)\n",
    "df_test_2 = pd.concat([df_test_dummy,df_test_scale],axis=1)"
   ]
  },
  {
   "cell_type": "code",
   "execution_count": null,
   "metadata": {},
   "outputs": [],
   "source": [
    "# create feature matrix (X) and target (Y) from df_train_2\n",
    "\n",
    "nc = [x for x in df_train_2.columns]              \n",
    "X = df_train_2[nc].values\n",
    "Y = df_train[y].values\n",
    "\n",
    "#pf = PolynomialFeatures(degree=2, interaction_only=True, include_bias=False)\n",
    "#pf = pf.fit(X)\n",
    "#X_poly = pf.transform(X)\n",
    "\n",
    "#X_train, X_test, y_train, y_test = train_test_split(X_poly, Y, train_size=0.7, test_size=0.3,random_state=3050)\n",
    "X_train, X_test, y_train, y_test = train_test_split(X, Y, train_size=0.7, test_size=0.3,random_state=3050)\n",
    "\n",
    "ss = StandardScaler()\n",
    "ss.fit(X_train)\n",
    "\n",
    "X_train = ss.fit_transform(X_train)\n",
    "X_test = ss.fit_transform(X_test)"
   ]
  },
  {
   "cell_type": "code",
   "execution_count": null,
   "metadata": {},
   "outputs": [],
   "source": [
    "# create feature matrix (X2) from df_test_2\n",
    "\n",
    "nc = [x for x in df_test_2.columns]              \n",
    "X2 = df_test_2[nc].values\n",
    "\n",
    "#X_poly_2 = pf.transform(X2)\n",
    "#X_test_2 = ss.fit_transform(X_poly_2)\n",
    "X_test_2 = ss.fit_transform(X2)"
   ]
  },
  {
   "cell_type": "code",
   "execution_count": null,
   "metadata": {},
   "outputs": [],
   "source": [
    "# check df_train transformations\n",
    "print(df_train_dummy.shape)\n",
    "print(df_train_scale.shape)\n",
    "print(df_train_2.shape)\n",
    "print(X.shape)\n",
    "print(Y.shape)\n",
    "#print(X_poly.shape)"
   ]
  },
  {
   "cell_type": "code",
   "execution_count": null,
   "metadata": {},
   "outputs": [],
   "source": [
    "# check df_test transformations\n",
    "print(df_test_dummy.shape)\n",
    "print(df_test_scale.shape)\n",
    "print(df_test_2.shape)\n",
    "print(X2.shape)\n",
    "#print(X_poly_2.shape)"
   ]
  },
  {
   "cell_type": "markdown",
   "metadata": {},
   "source": [
    "### LR Model (Polynomial)"
   ]
  },
  {
   "cell_type": "markdown",
   "metadata": {},
   "source": [
    "### something wrong with scale, dummies, polies for lr model!!!"
   ]
  },
  {
   "cell_type": "code",
   "execution_count": null,
   "metadata": {},
   "outputs": [],
   "source": [
    "# # apply lr_model on X_train and X_test (df_train)\n",
    "# lr_model = LinearRegression()\n",
    "\n",
    "# lr_model_poly = lr.fit(X_train,y_train)\n",
    "# #print('coef: {} intercept: {}'.format(lr_model_poly.coef_,lr_model_poly.intercept_))\n",
    "\n",
    "# score = lr_model_poly.score(X_test,y_test)\n",
    "# print('score:',score)\n",
    "\n",
    "# # perform cross validation on lr_model\n",
    "# mse = cross_val_score(lr_model_poly,X_poly,Y,cv=5,scoring='neg_mean_squared_error').mean()\n",
    "# r2 = cross_val_score(lr_model_poly,X_poly,Y,cv=5,scoring='r2').mean()\n",
    "# print('mse:',mse,'r2',r2)"
   ]
  },
  {
   "cell_type": "code",
   "execution_count": null,
   "metadata": {},
   "outputs": [],
   "source": [
    "# # apply lr_model on X_test_2 (df_test)\n",
    "# lr_y_pred = lr_model_poly.predict(X_test_2)"
   ]
  },
  {
   "cell_type": "markdown",
   "metadata": {},
   "source": [
    "### Ridge Model"
   ]
  },
  {
   "cell_type": "code",
   "execution_count": null,
   "metadata": {},
   "outputs": [],
   "source": [
    "# # perform cross validation on ridge_model\n",
    "# mse = cross_val_score(ridge,X_poly,Y,cv=5,scoring='neg_mean_squared_error').mean()\n",
    "# ridge_scores = cross_val_score(ridge,X_poly,Y,cv=5)\n",
    "# r2 = ridge_scores.mean()\n",
    "# print('mse:',mse,'r2',r2)"
   ]
  },
  {
   "cell_type": "code",
   "execution_count": null,
   "metadata": {},
   "outputs": [],
   "source": [
    "mse = cross_val_score(ridge,X,Y,cv=5,scoring='neg_mean_squared_error').mean()\n",
    "ridge_scores = cross_val_score(ridge,X,Y,cv=5)\n",
    "r2 = ridge_scores.mean()\n",
    "print('mse:',mse,'r2',r2)"
   ]
  },
  {
   "cell_type": "code",
   "execution_count": null,
   "metadata": {},
   "outputs": [],
   "source": [
    "# fit ridge_model\n",
    "ridge.fit(X_train, y_train)\n",
    "\n",
    "# score ridge_model\n",
    "print(ridge.score(X_train, y_train))\n",
    "print(ridge.score(X_test, y_test))\n",
    "\n",
    "# get y_pred from X_test (df_train)\n",
    "ry_pred = ridge.predict(X_test)\n",
    "print(r2_score(y_test, ry_pred))"
   ]
  },
  {
   "cell_type": "code",
   "execution_count": null,
   "metadata": {},
   "outputs": [],
   "source": [
    "# get y_pred from X_test_2 (df_test)\n",
    "ridge_y_pred = ridge.predict(X_test_2)"
   ]
  },
  {
   "cell_type": "markdown",
   "metadata": {},
   "source": [
    "### Lasso Model"
   ]
  },
  {
   "cell_type": "code",
   "execution_count": null,
   "metadata": {},
   "outputs": [],
   "source": [
    "# # perform cross validation on lasso_model\n",
    "# mse = cross_val_score(lasso,X_poly,Y,cv=5,scoring='neg_mean_squared_error').mean()\n",
    "# lasso_scores = cross_val_score(lasso,X_poly,Y,cv=5,scoring='r2')\n",
    "# r2 = lasso_scores.mean()\n",
    "# print('mse:',mse,'r2',r2)"
   ]
  },
  {
   "cell_type": "code",
   "execution_count": null,
   "metadata": {},
   "outputs": [],
   "source": [
    "# perform cross validation on lasso_model\n",
    "mse = cross_val_score(lasso,X,Y,cv=5,scoring='neg_mean_squared_error').mean()\n",
    "lasso_scores = cross_val_score(lasso,X,Y,cv=5,scoring='r2')\n",
    "r2 = lasso_scores.mean()\n",
    "print('mse:',mse,'r2',r2)"
   ]
  },
  {
   "cell_type": "code",
   "execution_count": null,
   "metadata": {},
   "outputs": [],
   "source": [
    "# fit lasso_model\n",
    "lasso.fit(X_train, y_train)\n",
    "\n",
    "# score lasso_model\n",
    "print(lasso.score(X_train, y_train))\n",
    "print(lasso.score(X_test, y_test))"
   ]
  },
  {
   "cell_type": "code",
   "execution_count": null,
   "metadata": {},
   "outputs": [],
   "source": [
    "# get y_pred from X_test (df_train)\n",
    "lasso_y_pred = lasso.predict(X_test)\n",
    "print(r2_score(y_test, lasso_y_pred))"
   ]
  },
  {
   "cell_type": "code",
   "execution_count": null,
   "metadata": {},
   "outputs": [],
   "source": [
    "# get y_pred from X_test_2 (df_test)\n",
    "lasso_y_pred = lasso.predict(X_test_2)"
   ]
  },
  {
   "cell_type": "markdown",
   "metadata": {},
   "source": [
    "### Output Model Predictions"
   ]
  },
  {
   "cell_type": "code",
   "execution_count": null,
   "metadata": {},
   "outputs": [],
   "source": [
    "if output_model == 'lr':\n",
    "    df_test['SalePrice'] = lr_y_pred\n",
    "elif output_model == 'ridge':\n",
    "    df_test['SalePrice'] = ridge_y_pred\n",
    "elif output_model == 'lasso':\n",
    "    df_test['SalePrice'] = lasso_y_pred\n",
    "    \n",
    "out_cols = ['id','SalePrice']\n",
    "df_output = df_test[out_cols]\n",
    "df_output.sort_values(by='id',inplace=True)"
   ]
  },
  {
   "cell_type": "code",
   "execution_count": null,
   "metadata": {},
   "outputs": [],
   "source": [
    "# output to csv\n",
    "\n",
    "output_path = '../data/output/'\n",
    "\n",
    "timestamp = dt.datetime.now()\n",
    "timestamp = timestamp.strftime(\" %Y_%m_%d %H_%M_%S \")\n",
    "\n",
    "df_output.to_csv(output_path + 'submission' + timestamp + output_model + '.csv',index=False)"
   ]
  },
  {
   "cell_type": "code",
   "execution_count": null,
   "metadata": {},
   "outputs": [],
   "source": []
  }
 ],
 "metadata": {
  "kernelspec": {
   "display_name": "Python 3",
   "language": "python",
   "name": "python3"
  },
  "language_info": {
   "codemirror_mode": {
    "name": "ipython",
    "version": 3
   },
   "file_extension": ".py",
   "mimetype": "text/x-python",
   "name": "python",
   "nbconvert_exporter": "python",
   "pygments_lexer": "ipython3",
   "version": "3.7.3"
  }
 },
 "nbformat": 4,
 "nbformat_minor": 2
}
